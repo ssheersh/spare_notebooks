{
 "cells": [
  {
   "cell_type": "code",
   "execution_count": 10,
   "metadata": {},
   "outputs": [],
   "source": [
    "import pandas as pd\n",
    "import numpy as np\n",
    "import tensorflow as tf\n",
    "from sklearn.model_selection import train_test_split\n",
    "from tensorflow.keras import layers, models\n",
    "from sklearn.metrics import confusion_matrix"
   ]
  },
  {
   "cell_type": "code",
   "execution_count": 3,
   "metadata": {},
   "outputs": [],
   "source": [
    "def process_data(csv_file):\n",
    "    data = pd.read_csv(csv_file)\n",
    "    labels = data.iloc[:, 0].values\n",
    "    images = data.iloc[:, 1:].values.reshape((-1, 28, 28, 1)).astype('float32') / 255.0\n",
    "    return images, labels\n",
    "\n",
    "images, labels = process_data('train.csv')\n",
    "\n",
    "train_images, test_images, train_labels, test_labels = train_test_split(images, labels, test_size=0.2)\n"
   ]
  },
  {
   "cell_type": "code",
   "execution_count": 13,
   "metadata": {},
   "outputs": [],
   "source": [
    "test_data=pd.read_csv('test.csv')\n",
    "images_t = test_data.iloc[:, :].values.reshape((-1, 28, 28, 1)).astype('float32') / 255.0"
   ]
  },
  {
   "cell_type": "code",
   "execution_count": 4,
   "metadata": {},
   "outputs": [
    {
     "name": "stderr",
     "output_type": "stream",
     "text": [
      "2023-12-05 22:50:51.415853: I tensorflow/core/platform/cpu_feature_guard.cc:193] This TensorFlow binary is optimized with oneAPI Deep Neural Network Library (oneDNN) to use the following CPU instructions in performance-critical operations:  SSE4.1 SSE4.2 AVX AVX2 AVX_VNNI FMA\n",
      "To enable them in other operations, rebuild TensorFlow with the appropriate compiler flags.\n",
      "2023-12-05 22:50:51.422426: I tensorflow/core/common_runtime/process_util.cc:146] Creating new thread pool with default inter op setting: 2. Tune using inter_op_parallelism_threads for best performance.\n"
     ]
    }
   ],
   "source": [
    "model = models.Sequential()\n",
    "model.add(layers.Conv2D(32, (3, 3), activation='relu', input_shape=(28, 28, 1)))\n",
    "model.add(layers.MaxPooling2D((2, 2)))\n",
    "model.add(layers.Conv2D(64, (3, 3), activation='relu'))\n",
    "model.add(layers.MaxPooling2D((2, 2)))\n",
    "model.add(layers.Flatten())\n",
    "model.add(layers.Dense(128, activation='relu'))\n",
    "model.add(layers.Dense(10, activation='softmax'))"
   ]
  },
  {
   "cell_type": "code",
   "execution_count": 6,
   "metadata": {},
   "outputs": [
    {
     "name": "stdout",
     "output_type": "stream",
     "text": [
      "Epoch 1/5\n",
      "420/420 [==============================] - 5s 11ms/step - loss: 1.2019 - accuracy: 0.6899 - val_loss: 0.5158 - val_accuracy: 0.8286\n",
      "Epoch 2/5\n",
      "420/420 [==============================] - 4s 10ms/step - loss: 0.3363 - accuracy: 0.8985 - val_loss: 0.2716 - val_accuracy: 0.9214\n",
      "Epoch 3/5\n",
      "420/420 [==============================] - 4s 10ms/step - loss: 0.2414 - accuracy: 0.9271 - val_loss: 0.2108 - val_accuracy: 0.9381\n",
      "Epoch 4/5\n",
      "420/420 [==============================] - 4s 10ms/step - loss: 0.1916 - accuracy: 0.9415 - val_loss: 0.1827 - val_accuracy: 0.9433\n",
      "Epoch 5/5\n",
      "420/420 [==============================] - 4s 10ms/step - loss: 0.1594 - accuracy: 0.9513 - val_loss: 0.1508 - val_accuracy: 0.9545\n"
     ]
    },
    {
     "data": {
      "text/plain": [
       "<keras.callbacks.History at 0x7f7c671507f0>"
      ]
     },
     "execution_count": 6,
     "metadata": {},
     "output_type": "execute_result"
    }
   ],
   "source": [
    "model.compile(optimizer='sgd',  # Use SGD optimizer\n",
    "              loss='sparse_categorical_crossentropy',\n",
    "              metrics=['accuracy'])\n",
    "\n",
    "model.fit(train_images, train_labels, epochs=5, batch_size=64, validation_split=0.2)"
   ]
  },
  {
   "cell_type": "code",
   "execution_count": 7,
   "metadata": {},
   "outputs": [
    {
     "name": "stdout",
     "output_type": "stream",
     "text": [
      "263/263 [==============================] - 1s 3ms/step - loss: 0.1566 - accuracy: 0.9543\n",
      "Test Loss: 0.15655754506587982, Test Accuracy: 0.954285740852356\n"
     ]
    }
   ],
   "source": [
    "test_loss, test_accuracy = model.evaluate(test_images, test_labels)\n",
    "print(f'Test Loss: {test_loss}, Test Accuracy: {test_accuracy}')"
   ]
  },
  {
   "cell_type": "code",
   "execution_count": 11,
   "metadata": {},
   "outputs": [
    {
     "name": "stdout",
     "output_type": "stream",
     "text": [
      "263/263 [==============================] - 1s 4ms/step\n",
      "Confusion Matrix:\n",
      "[[822   0   1   0   0   3   8   0   8   3]\n",
      " [  0 894   2   3   1   0   0   0   4   0]\n",
      " [  5   7 776   6   5   2   6   5  17   1]\n",
      " [  1   0  12 860   0   9   1   2  18  12]\n",
      " [  0   1   1   0 725   0  10   1   2  27]\n",
      " [  2   2   0  12   0 690   9   1   6   7]\n",
      " [  7   0   0   0   0   6 814   0   4   0]\n",
      " [  2   3  13   6   5   0   0 813   3  30]\n",
      " [  1   7   3   9   3   9   7   0 810  14]\n",
      " [  2   4   0   4   4   4   0   4   7 812]]\n"
     ]
    }
   ],
   "source": [
    "predictions = np.argmax(model.predict(test_images), axis=1)\n",
    "conf_matrix = confusion_matrix(test_labels, predictions)\n",
    "print(\"Confusion Matrix:\")\n",
    "print(conf_matrix)"
   ]
  },
  {
   "cell_type": "code",
   "execution_count": 46,
   "metadata": {},
   "outputs": [
    {
     "name": "stdout",
     "output_type": "stream",
     "text": [
      "875/875 [==============================] - 2s 2ms/step\n"
     ]
    }
   ],
   "source": [
    "fins=np.argmax(model.predict(images_t), axis=1)"
   ]
  },
  {
   "cell_type": "code",
   "execution_count": 29,
   "metadata": {},
   "outputs": [],
   "source": [
    "df=pd.DataFrame(fins, columns=['Label'])"
   ]
  },
  {
   "cell_type": "code",
   "execution_count": 38,
   "metadata": {},
   "outputs": [],
   "source": [
    "imageid=range(1,28001)\n",
    "imageid=list(imageid)"
   ]
  },
  {
   "cell_type": "code",
   "execution_count": 45,
   "metadata": {},
   "outputs": [],
   "source": [
    "df['ImageId']=imageid\n",
    "df.head()\n",
    "f=open('submission.csv', 'w')\n",
    "df.to_csv(f)"
   ]
  }
 ],
 "metadata": {
  "kernelspec": {
   "display_name": "base",
   "language": "python",
   "name": "python3"
  },
  "language_info": {
   "codemirror_mode": {
    "name": "ipython",
    "version": 3
   },
   "file_extension": ".py",
   "mimetype": "text/x-python",
   "name": "python",
   "nbconvert_exporter": "python",
   "pygments_lexer": "ipython3",
   "version": "3.10.10"
  }
 },
 "nbformat": 4,
 "nbformat_minor": 2
}
